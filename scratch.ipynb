{
 "cells": [
  {
   "cell_type": "code",
   "execution_count": 1,
   "metadata": {},
   "outputs": [],
   "source": [
    "import pyoxigraph as ox"
   ]
  },
  {
   "cell_type": "code",
   "execution_count": 2,
   "metadata": {},
   "outputs": [],
   "source": [
    "store = ox.Store(\"data/wety.db\")"
   ]
  },
  {
   "cell_type": "code",
   "execution_count": 9,
   "metadata": {},
   "outputs": [
    {
     "name": "stdout",
     "output_type": "stream",
     "text": [
      "zalts\n",
      "Zoltēs\n",
      "zalmo\n",
      "gallǭ\n",
      "ἀγᾰλλῐ́ς\n",
      "ܙܪܢܝܟܐ\n",
      "žãlias\n",
      "glōaną\n",
      "हरिण\n",
      "gleuaden\n",
      "हरिण\n",
      "gulþą\n",
      "لاجورد\n",
      "zöld\n",
      "زرد\n",
      "χόλος\n",
      "zelt\n",
      "zelmis\n",
      "gulaz\n",
      "ȷ́ʰr̥Hanyam\n",
      "glīscō\n",
      "fel\n",
      "ἀρσενῐκόν\n",
      "ζέλκια\n",
      "желту́ха\n",
      "χλόη\n"
     ]
    }
   ],
   "source": [
    "for s in store.query('SELECT ?w WHERE { ?w <o:term> \"ǵʰelh₃-\" }'):\n",
    "    for d in store.query('SELECT ?w WHERE {{ ?w <o:source> <{}>}}'.format(s['w'].value)):\n",
    "        for t in store.query('SELECT ?t WHERE {{ <{}> <o:term> ?t }}'.format(d['w'].value)):\n",
    "            print(t['t'].value)"
   ]
  }
 ],
 "metadata": {
  "kernelspec": {
   "display_name": "Python 3.9.12 ('base')",
   "language": "python",
   "name": "python3"
  },
  "language_info": {
   "codemirror_mode": {
    "name": "ipython",
    "version": 3
   },
   "file_extension": ".py",
   "mimetype": "text/x-python",
   "name": "python",
   "nbconvert_exporter": "python",
   "pygments_lexer": "ipython3",
   "version": "3.9.12"
  },
  "orig_nbformat": 4,
  "vscode": {
   "interpreter": {
    "hash": "1549af4f1df1cbfb17026a4b75f9f48e21354bab80ccf0116c1146c290d157b9"
   }
  }
 },
 "nbformat": 4,
 "nbformat_minor": 2
}
