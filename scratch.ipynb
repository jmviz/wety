{
 "cells": [
  {
   "cell_type": "code",
   "execution_count": null,
   "metadata": {},
   "outputs": [],
   "source": [
    "import pyoxigraph as ox\n",
    "import pandas as pd"
   ]
  },
  {
   "cell_type": "code",
   "execution_count": null,
   "metadata": {},
   "outputs": [],
   "source": [
    "store = ox.Store(\"data/wety.db\")"
   ]
  },
  {
   "cell_type": "code",
   "execution_count": null,
   "metadata": {},
   "outputs": [],
   "source": [
    "def get_item(term, lang, n=0):\n",
    "    return [s['w'].value for s in store.query(f'SELECT ?w WHERE {{ ?w <p:term> \"{term}\" . ?w <p:lang> \"{lang}\" .}}')][n]\n",
    "\n",
    "def print_info(item):\n",
    "    results = store.query(\n",
    "        f\"\"\"SELECT ?term ?lang ?gloss WHERE {{ \n",
    "            <{item}> <p:term> ?term .\n",
    "            <{item}> <p:lang> ?lang .\n",
    "            <{item}> <p:gloss> ?gloss .\n",
    "        }}\"\"\"\n",
    "    )\n",
    "    for result in results:\n",
    "        print(result['term'].value)\n",
    "        print(result['lang'].value)\n",
    "        print(result['gloss'].value)\n",
    "\n",
    "def get_head_source(item):\n",
    "    results = store.query(\n",
    "        f\"\"\"SELECT ?source ?order ?head WHERE {{ \n",
    "            <{item}> <p:head> ?head .\n",
    "            <{item}> <p:source> ?sourceNode .\n",
    "            ?sourceNode <p:item> ?source .\n",
    "            ?sourceNode <p:order> ?order .\n",
    "        }}\"\"\"\n",
    "    )\n",
    "    for result in results:\n",
    "        if result['order'].value == result['head'].value:\n",
    "            return result['source'].value\n",
    "    return None\n",
    "\n",
    "def get_head_root(item):\n",
    "    prev_source = item\n",
    "    source = get_head_source(item)\n",
    "    while source:\n",
    "        prev_source = source\n",
    "        source = get_head_source(source)\n",
    "    return prev_source\n",
    "\n",
    "def get_children(item):\n",
    "    return [(w['child'].value, w['lang'].value, w['term'].value) for w in store.query(\n",
    "        f\"\"\"SELECT ?child ?lang ?term WHERE {{ \n",
    "            ?sourceNode <p:item> <{item}> .\n",
    "            ?sourceNode <p:order> ?order .\n",
    "            ?child <p:source> ?sourceNode .\n",
    "            ?child <p:head> ?order . \n",
    "            ?child <p:lang> ?lang .\n",
    "            ?child <p:term> ?term .\n",
    "        }}\"\"\"\n",
    "    )]\n",
    "\n",
    "def get_descendants(item):\n",
    "    descendants = {}\n",
    "    children = get_children(item)\n",
    "    for child in children:\n",
    "        descendants[\"{}, {}\".format(child[1], child[2])] = get_descendants(child[0])\n",
    "    return descendants"
   ]
  },
  {
   "cell_type": "code",
   "execution_count": null,
   "metadata": {},
   "outputs": [],
   "source": [
    "item = get_item(\"revolve\", \"English\")\n",
    "print_info(item)\n",
    "head_root = get_head_root(item)\n",
    "print_info(head_root)\n",
    "d = get_descendants(head_root)"
   ]
  },
  {
   "cell_type": "code",
   "execution_count": null,
   "metadata": {},
   "outputs": [],
   "source": [
    "d"
   ]
  },
  {
   "cell_type": "code",
   "execution_count": null,
   "metadata": {},
   "outputs": [],
   "source": [
    "data = pd.DataFrame(\n",
    "    [[w['lang'].value, w['pos'].value, w['term'].value] for w in store.query(\n",
    "        f\"\"\"SELECT DISTINCT ?lang ?pos ?term WHERE {{ \n",
    "            ?item <p:glossNum> ?glossNum .\n",
    "            ?item <p:glossNum> ?glossNum .\n",
    "            ?item <p:lang> ?lang .\n",
    "            ?item <p:pos> ?pos .\n",
    "            ?item <p:term> ?term .\n",
    "        }}\"\"\"\n",
    "    )],\n",
    "    columns=[\"lang\", \"pos\", \"term\"]\n",
    ")\n",
    "data.sort_values([\"lang\", \"pos\", \"term\"], inplace=True)\n",
    "data.to_csv(\"data/nonzero_glossNum.csv\", index=False)\n",
    "print(len(data))"
   ]
  },
  {
   "cell_type": "code",
   "execution_count": null,
   "metadata": {},
   "outputs": [],
   "source": [
    "data = pd.DataFrame(\n",
    "    [[w['lang'].value, w['pos'].value, w['term'].value] for w in store.query(\n",
    "        f\"\"\"SELECT DISTINCT ?lang ?pos ?term WHERE {{ \n",
    "            ?item <p:glossNum> ?glossNum .\n",
    "            ?item <p:etyNum> ?etyNum .\n",
    "            ?item <p:lang> ?lang .\n",
    "            ?item <p:pos> ?pos .\n",
    "            ?item <p:term> ?term .\n",
    "        }}\"\"\"\n",
    "    )],\n",
    "    columns=[\"lang\", \"pos\", \"term\"]\n",
    ")\n",
    "data.sort_values([\"lang\", \"pos\", \"term\"], inplace=True)\n",
    "data.to_csv(\"data/nonzero_glossNum_and_etyNum.csv\", index=False)\n",
    "print(len(data))"
   ]
  },
  {
   "cell_type": "code",
   "execution_count": null,
   "metadata": {},
   "outputs": [],
   "source": [
    "d = pd.read_csv(\"data/descendants_langs.csv\", names=[\"lang\",\"n\"])\n",
    "d[\"n\"].sum()"
   ]
  },
  {
   "cell_type": "code",
   "execution_count": null,
   "metadata": {},
   "outputs": [],
   "source": [
    "fas = pd.read_csv(\"data/feedback_arc_set_pass_1.tsv\", sep=\"\\t\")"
   ]
  },
  {
   "cell_type": "code",
   "execution_count": null,
   "metadata": {},
   "outputs": [],
   "source": []
  }
 ],
 "metadata": {
  "kernelspec": {
   "display_name": "Python 3.9.7 ('base')",
   "language": "python",
   "name": "python3"
  },
  "language_info": {
   "codemirror_mode": {
    "name": "ipython",
    "version": 3
   },
   "file_extension": ".py",
   "mimetype": "text/x-python",
   "name": "python",
   "nbconvert_exporter": "python",
   "pygments_lexer": "ipython3",
   "version": "3.9.7"
  },
  "orig_nbformat": 4,
  "vscode": {
   "interpreter": {
    "hash": "1df8d05a25a6f469907ddd1e2bb3a6553cf98e476e07b1efbb7c7c485afc0773"
   }
  }
 },
 "nbformat": 4,
 "nbformat_minor": 2
}
