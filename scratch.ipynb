{
 "cells": [
  {
   "cell_type": "code",
   "execution_count": 1,
   "metadata": {},
   "outputs": [],
   "source": [
    "import pyoxigraph as ox"
   ]
  },
  {
   "cell_type": "code",
   "execution_count": 2,
   "metadata": {},
   "outputs": [],
   "source": [
    "store = ox.Store(\"data/wety.db\")"
   ]
  },
  {
   "cell_type": "code",
   "execution_count": 27,
   "metadata": {},
   "outputs": [],
   "source": [
    "def get_children(r):\n",
    "    return [(w['s'].value, w['l'].value, w['t'].value) for w in store.query(\n",
    "        f\"\"\"SELECT ?s ?t ?l WHERE {{ \n",
    "            ?s <o:source> <{r}> .\n",
    "            ?s <o:term> ?t .\n",
    "            ?s <o:lang> ?l .\n",
    "        }}\"\"\"\n",
    "    )]\n",
    "\n",
    "def get_descendants(r):\n",
    "    descendants = {}\n",
    "    children = get_children(r)\n",
    "    for child in children:\n",
    "        descendants[\"{}, {}\".format(child[1], child[2])] = get_descendants(child[0])\n",
    "    return descendants"
   ]
  },
  {
   "cell_type": "code",
   "execution_count": 93,
   "metadata": {},
   "outputs": [],
   "source": [
    "root = \"sekʷ-\"\n",
    "r = [s['w'].value for s in store.query(f'SELECT ?w WHERE {{ ?w <o:term> \"{root}\" }}')][0]\n",
    "d = get_descendants(r)"
   ]
  },
  {
   "cell_type": "code",
   "execution_count": 97,
   "metadata": {},
   "outputs": [
    {
     "name": "stdout",
     "output_type": "stream",
     "text": [
      "la, secūtor\n",
      "sq, shikoj\n",
      "la, sequēbāmur\n",
      "la, sector\n",
      "la, obsequor\n",
      "la, sequeris\n",
      "fro, sivre\n",
      "la, sequimur\n",
      "la, sequēbāris\n",
      "la, sequēbar\n",
      "la, assequor\n",
      "la, sequāris\n",
      "es, seguir\n",
      "la, sequentur\n",
      "la, sequāre\n",
      "la, sequēbāminī\n",
      "la, sequerer\n",
      "la, sequī\n",
      "la, sequēns\n",
      "la, sequēbāre\n",
      "la, subsequor\n",
      "la, secūtus\n",
      "la, resequor\n",
      "la, sequitur\n",
      "la, cōnsequor\n",
      "la, sequētur\n",
      "la, sequuntur\n",
      "la, sequar\n",
      "oc, seguir\n",
      "la, sequerentur\n",
      "la, sequēbātur\n",
      "la, sequāmur\n",
      "la, sequantur\n",
      "la, persequor\n",
      "la, sequerēmur\n",
      "la, sequātur\n",
      "la, sequēmur\n",
      "la, sequēminī\n",
      "la, sequerētur\n",
      "la, sequere\n",
      "la, sequitor\n",
      "la, exsequor\n",
      "it, seguìre\n",
      "la, sequerēre\n",
      "la, sequuntor\n",
      "la, sequendus\n",
      "la, sequerēris\n",
      "la, sequēbantur\n",
      "la, secūtūrus\n",
      "la, sequēris\n",
      "la, sequāminī\n",
      "la, sequerēminī\n"
     ]
    }
   ],
   "source": [
    "for key in d['itc-pro, sekʷōr']['la, sequor'].keys():\n",
    "    print(key)"
   ]
  },
  {
   "cell_type": "code",
   "execution_count": 90,
   "metadata": {},
   "outputs": [
    {
     "data": {
      "text/plain": [
       "[('o:source', 'w:161196'),\n",
       " ('o:lang', 'la'),\n",
       " ('o:mode', 'form of'),\n",
       " ('o:pos', 'verb'),\n",
       " ('o:gloss', 'present active infinitive of sequor'),\n",
       " ('o:term', 'sequī')]"
      ]
     },
     "execution_count": 90,
     "metadata": {},
     "output_type": "execute_result"
    }
   ],
   "source": [
    "[(s['p'].value, s['v'].value) for s in store.query(f\"\"\"SELECT ?p ?v WHERE {{ \n",
    "    ?w <o:term> \"sequī\" .\n",
    "    ?w ?p ?v .\n",
    "    }}\"\"\")]"
   ]
  },
  {
   "cell_type": "code",
   "execution_count": 92,
   "metadata": {},
   "outputs": [
    {
     "data": {
      "text/plain": [
       "'sequor'"
      ]
     },
     "execution_count": 92,
     "metadata": {},
     "output_type": "execute_result"
    }
   ],
   "source": [
    "[s['t'].value for s in store.query(f'SELECT ?t WHERE {{ <w:161196> <o:term> ?t }}')][0]"
   ]
  }
 ],
 "metadata": {
  "kernelspec": {
   "display_name": "Python 3.9.7 ('base')",
   "language": "python",
   "name": "python3"
  },
  "language_info": {
   "codemirror_mode": {
    "name": "ipython",
    "version": 3
   },
   "file_extension": ".py",
   "mimetype": "text/x-python",
   "name": "python",
   "nbconvert_exporter": "python",
   "pygments_lexer": "ipython3",
   "version": "3.9.7"
  },
  "orig_nbformat": 4,
  "vscode": {
   "interpreter": {
    "hash": "1df8d05a25a6f469907ddd1e2bb3a6553cf98e476e07b1efbb7c7c485afc0773"
   }
  }
 },
 "nbformat": 4,
 "nbformat_minor": 2
}
