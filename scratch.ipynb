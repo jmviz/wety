{
 "cells": [
  {
   "cell_type": "code",
   "execution_count": 3,
   "metadata": {},
   "outputs": [],
   "source": [
    "import pyoxigraph as ox\n",
    "import pandas as pd"
   ]
  },
  {
   "cell_type": "code",
   "execution_count": 2,
   "metadata": {},
   "outputs": [],
   "source": [
    "store = ox.Store(\"data/wety.db\")"
   ]
  },
  {
   "cell_type": "code",
   "execution_count": 3,
   "metadata": {},
   "outputs": [],
   "source": [
    "def get_children(root):\n",
    "    return [(w['child'].value, w['lang'].value, w['term'].value) for w in store.query(\n",
    "        f\"\"\"SELECT ?child ?lang ?term WHERE {{ \n",
    "            ?sourceNode <o:item> <{root}> .\n",
    "            ?child <o:source> ?sourceNode .\n",
    "            ?child <o:lang> ?lang .\n",
    "            ?child <o:term> ?term .\n",
    "        }}\"\"\"\n",
    "    )]\n",
    "\n",
    "def get_descendants(r):\n",
    "    descendants = {}\n",
    "    children = get_children(r)\n",
    "    for child in children:\n",
    "        descendants[\"{}, {}\".format(child[1], child[2])] = get_descendants(child[0])\n",
    "    return descendants"
   ]
  },
  {
   "cell_type": "code",
   "execution_count": 6,
   "metadata": {},
   "outputs": [],
   "source": [
    "root = \"ǵʰelh₃-\"\n",
    "r = [s['w'].value for s in store.query(f'SELECT ?w WHERE {{ ?w <o:term> \"{root}\" }}')][0]\n",
    "d = get_descendants(r)"
   ]
  },
  {
   "cell_type": "code",
   "execution_count": 11,
   "metadata": {},
   "outputs": [
    {
     "name": "stdout",
     "output_type": "stream",
     "text": [
      "53331\n"
     ]
    }
   ],
   "source": [
    "data = pd.DataFrame(\n",
    "    [[w['lang'].value, w['pos'].value, w['term'].value] for w in store.query(\n",
    "        f\"\"\"SELECT DISTINCT ?lang ?pos ?term WHERE {{ \n",
    "            ?item <o:glossNum> ?glossNum .\n",
    "            ?item <o:glossNum> ?glossNum .\n",
    "            ?item <o:lang> ?lang .\n",
    "            ?item <o:pos> ?pos .\n",
    "            ?item <o:term> ?term .\n",
    "        }}\"\"\"\n",
    "    )],\n",
    "    columns=[\"lang\", \"pos\", \"term\"]\n",
    ")\n",
    "data.sort_values([\"lang\", \"pos\", \"term\"], inplace=True)\n",
    "data.to_csv(\"data/nonzero_glossNum.csv\", index=False)\n",
    "print(len(data))"
   ]
  },
  {
   "cell_type": "code",
   "execution_count": 12,
   "metadata": {},
   "outputs": [
    {
     "name": "stdout",
     "output_type": "stream",
     "text": [
      "1621\n"
     ]
    }
   ],
   "source": [
    "data = pd.DataFrame(\n",
    "    [[w['lang'].value, w['pos'].value, w['term'].value] for w in store.query(\n",
    "        f\"\"\"SELECT DISTINCT ?lang ?pos ?term WHERE {{ \n",
    "            ?item <o:glossNum> ?glossNum .\n",
    "            ?item <o:etyNum> ?etyNum .\n",
    "            ?item <o:lang> ?lang .\n",
    "            ?item <o:pos> ?pos .\n",
    "            ?item <o:term> ?term .\n",
    "        }}\"\"\"\n",
    "    )],\n",
    "    columns=[\"lang\", \"pos\", \"term\"]\n",
    ")\n",
    "data.sort_values([\"lang\", \"pos\", \"term\"], inplace=True)\n",
    "data.to_csv(\"data/nonzero_glossNum_and_etyNum.csv\", index=False)\n",
    "print(len(data))"
   ]
  }
 ],
 "metadata": {
  "kernelspec": {
   "display_name": "Python 3.9.12 ('base')",
   "language": "python",
   "name": "python3"
  },
  "language_info": {
   "codemirror_mode": {
    "name": "ipython",
    "version": 3
   },
   "file_extension": ".py",
   "mimetype": "text/x-python",
   "name": "python",
   "nbconvert_exporter": "python",
   "pygments_lexer": "ipython3",
   "version": "3.9.12"
  },
  "orig_nbformat": 4,
  "vscode": {
   "interpreter": {
    "hash": "1549af4f1df1cbfb17026a4b75f9f48e21354bab80ccf0116c1146c290d157b9"
   }
  }
 },
 "nbformat": 4,
 "nbformat_minor": 2
}
