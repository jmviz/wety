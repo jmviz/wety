{
 "cells": [
  {
   "cell_type": "code",
   "execution_count": null,
   "metadata": {},
   "outputs": [],
   "source": [
    "import pyoxigraph as ox\n",
    "import pandas as pd"
   ]
  },
  {
   "cell_type": "code",
   "execution_count": null,
   "metadata": {},
   "outputs": [],
   "source": [
    "store = ox.Store(\"data/wety.db\")"
   ]
  },
  {
   "cell_type": "code",
   "execution_count": null,
   "metadata": {},
   "outputs": [],
   "source": [
    "def get_children(root):\n",
    "    return [(w['child'].value, w['lang'].value, w['term'].value) for w in store.query(\n",
    "        f\"\"\"SELECT ?child ?lang ?term WHERE {{ \n",
    "            ?sourceNode <p:item> <{root}> .\n",
    "            ?child <p:source> ?sourceNode .\n",
    "            ?child <p:lang> ?lang .\n",
    "            ?child <p:term> ?term .\n",
    "        }}\"\"\"\n",
    "    )]\n",
    "\n",
    "def get_descendants(r):\n",
    "    descendants = {}\n",
    "    children = get_children(r)\n",
    "    for child in children:\n",
    "        descendants[\"{}, {}\".format(child[1], child[2])] = get_descendants(child[0])\n",
    "    return descendants"
   ]
  },
  {
   "cell_type": "code",
   "execution_count": null,
   "metadata": {},
   "outputs": [],
   "source": [
    "root = \"sekʷ-\"\n",
    "r = [s['w'].value for s in store.query(f'SELECT ?w WHERE {{ ?w <p:term> \"{root}\" . ?w <p:lang> \"ine-pro\" }}')][0]\n",
    "d = get_descendants(r)"
   ]
  },
  {
   "cell_type": "code",
   "execution_count": null,
   "metadata": {},
   "outputs": [],
   "source": [
    "d"
   ]
  },
  {
   "cell_type": "code",
   "execution_count": null,
   "metadata": {},
   "outputs": [],
   "source": [
    "data = pd.DataFrame(\n",
    "    [[w['lang'].value, w['pos'].value, w['term'].value] for w in store.query(\n",
    "        f\"\"\"SELECT DISTINCT ?lang ?pos ?term WHERE {{ \n",
    "            ?item <p:glossNum> ?glossNum .\n",
    "            ?item <p:glossNum> ?glossNum .\n",
    "            ?item <p:lang> ?lang .\n",
    "            ?item <p:pos> ?pos .\n",
    "            ?item <p:term> ?term .\n",
    "        }}\"\"\"\n",
    "    )],\n",
    "    columns=[\"lang\", \"pos\", \"term\"]\n",
    ")\n",
    "data.sort_values([\"lang\", \"pos\", \"term\"], inplace=True)\n",
    "data.to_csv(\"data/nonzero_glossNum.csv\", index=False)\n",
    "print(len(data))"
   ]
  },
  {
   "cell_type": "code",
   "execution_count": null,
   "metadata": {},
   "outputs": [],
   "source": [
    "data = pd.DataFrame(\n",
    "    [[w['lang'].value, w['pos'].value, w['term'].value] for w in store.query(\n",
    "        f\"\"\"SELECT DISTINCT ?lang ?pos ?term WHERE {{ \n",
    "            ?item <p:glossNum> ?glossNum .\n",
    "            ?item <p:etyNum> ?etyNum .\n",
    "            ?item <p:lang> ?lang .\n",
    "            ?item <p:pos> ?pos .\n",
    "            ?item <p:term> ?term .\n",
    "        }}\"\"\"\n",
    "    )],\n",
    "    columns=[\"lang\", \"pos\", \"term\"]\n",
    ")\n",
    "data.sort_values([\"lang\", \"pos\", \"term\"], inplace=True)\n",
    "data.to_csv(\"data/nonzero_glossNum_and_etyNum.csv\", index=False)\n",
    "print(len(data))"
   ]
  }
 ],
 "metadata": {
  "kernelspec": {
   "display_name": "Python 3.9.7 ('base')",
   "language": "python",
   "name": "python3"
  },
  "language_info": {
   "codemirror_mode": {
    "name": "ipython",
    "version": 3
   },
   "file_extension": ".py",
   "mimetype": "text/x-python",
   "name": "python",
   "nbconvert_exporter": "python",
   "pygments_lexer": "ipython3",
   "version": "3.9.7"
  },
  "orig_nbformat": 4,
  "vscode": {
   "interpreter": {
    "hash": "1df8d05a25a6f469907ddd1e2bb3a6553cf98e476e07b1efbb7c7c485afc0773"
   }
  }
 },
 "nbformat": 4,
 "nbformat_minor": 2
}
