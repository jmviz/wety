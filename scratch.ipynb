{
 "cells": [
  {
   "cell_type": "code",
   "execution_count": 1,
   "metadata": {},
   "outputs": [],
   "source": [
    "import pyoxigraph as ox"
   ]
  },
  {
   "cell_type": "code",
   "execution_count": 2,
   "metadata": {},
   "outputs": [],
   "source": [
    "store = ox.Store(\"data/wety.db\")"
   ]
  },
  {
   "cell_type": "code",
   "execution_count": 3,
   "metadata": {},
   "outputs": [],
   "source": [
    "def get_children(root):\n",
    "    return [(w['c'].value, w['l'].value, w['t'].value) for w in store.query(\n",
    "        f\"\"\"SELECT ?c ?t ?l WHERE {{ \n",
    "            ?s <o:item> <{root}> .\n",
    "            ?c <o:source> ?s .\n",
    "            ?c <o:term> ?t .\n",
    "            ?c <o:lang> ?l .\n",
    "        }}\"\"\"\n",
    "    )]\n",
    "\n",
    "def get_descendants(r):\n",
    "    descendants = {}\n",
    "    children = get_children(r)\n",
    "    for child in children:\n",
    "        descendants[\"{}, {}\".format(child[1], child[2])] = get_descendants(child[0])\n",
    "    return descendants"
   ]
  },
  {
   "cell_type": "code",
   "execution_count": 8,
   "metadata": {},
   "outputs": [],
   "source": [
    "root = \"bʰuH-\"\n",
    "r = [s['w'].value for s in store.query(f'SELECT ?w WHERE {{ ?w <o:term> \"{root}\" }}')][0]\n",
    "d = get_descendants(r)"
   ]
  }
 ],
 "metadata": {
  "kernelspec": {
   "display_name": "Python 3.9.7 ('base')",
   "language": "python",
   "name": "python3"
  },
  "language_info": {
   "codemirror_mode": {
    "name": "ipython",
    "version": 3
   },
   "file_extension": ".py",
   "mimetype": "text/x-python",
   "name": "python",
   "nbconvert_exporter": "python",
   "pygments_lexer": "ipython3",
   "version": "3.9.7"
  },
  "orig_nbformat": 4,
  "vscode": {
   "interpreter": {
    "hash": "1df8d05a25a6f469907ddd1e2bb3a6553cf98e476e07b1efbb7c7c485afc0773"
   }
  }
 },
 "nbformat": 4,
 "nbformat_minor": 2
}
